{
 "cells": [
  {
   "cell_type": "markdown",
   "metadata": {},
   "source": [
    "# Machine Learning Tutorial \n",
    "\n",
    "## Modelling PV generation using weather data\n"
   ]
  },
  {
   "cell_type": "markdown",
   "metadata": {},
   "source": [
    "Author: Max Bird - mhb316@ic.ac.uk"
   ]
  },
  {
   "cell_type": "markdown",
   "metadata": {},
   "source": [
    "# Introduction\n",
    "\n",
    "This notebook aims to cover a basic introduction to the applications of machine learning (ML) to real-world problems. Here we will use [supervised machine learning](https://towardsdatascience.com/a-brief-introduction-to-supervised-learning-54a3e3932590) methods to solve a regression problem: modelling the hourly generation for a photovoltaic (PV) installation using relevant weather data. Five years of historical generation data from a PV site in the UK and data from a nearby weather station are used as the dataset for this study. \n",
    "\n",
    "\n",
    "First let's list the major stages of any ML investigation:\n",
    "\n",
    "1. Data cleaning\n",
    "2. Preliminary Machine Learning Testing\n",
    "3. Feature Selection\n",
    "4. Hyperparameter Optimisation\n",
    "\n",
    "\n",
    "We will walk through each stage in turn with example code and explanations, and at the end there will be questions to work through on your own. This tutorial is carried out in Python, using DataFrames for data handling and the [SKlearn](https://scikit-learn.org/stable/index.html) library for machine learning functionality. If you are unfamiliar with handling data in Python using pandas, spend 15 minutes or so looking over [this](https://pandas.pydata.org/pandas-docs/stable/getting_started/10min.html).\n",
    "\n",
    "\n",
    "First we need to install the SKlearn library:"
   ]
  },
  {
   "cell_type": "code",
   "execution_count": 1,
   "metadata": {},
   "outputs": [
    {
     "name": "stdout",
     "output_type": "stream",
     "text": [
      "Requirement already up-to-date: scikit-learn in c:\\users\\max\\anaconda3\\envs\\machinelearning\\lib\\site-packages (0.22.2.post1)\n",
      "Requirement already satisfied, skipping upgrade: numpy>=1.11.0 in c:\\users\\max\\anaconda3\\envs\\machinelearning\\lib\\site-packages (from scikit-learn) (1.17.4)\n",
      "Requirement already satisfied, skipping upgrade: scipy>=0.17.0 in c:\\users\\max\\anaconda3\\envs\\machinelearning\\lib\\site-packages (from scikit-learn) (1.3.2)\n",
      "Requirement already satisfied, skipping upgrade: joblib>=0.11 in c:\\users\\max\\anaconda3\\envs\\machinelearning\\lib\\site-packages (from scikit-learn) (0.14.0)\n",
      "Note: you may need to restart the kernel to use updated packages.\n"
     ]
    }
   ],
   "source": [
    "pip install -U scikit-learn"
   ]
  },
  {
   "cell_type": "markdown",
   "metadata": {},
   "source": [
    "# Data Cleaning\n",
    "\n",
    "ML models are generally entirely data-driven, and as most real-world data is usually messy and incomplete, it is vital to spend time looking at and cleaning raw data before starting any modelling work. \n",
    "\n",
    "First let's visualise the PV generation data:"
   ]
  },
  {
   "cell_type": "code",
   "execution_count": 2,
   "metadata": {},
   "outputs": [
    {
     "name": "stdout",
     "output_type": "stream",
     "text": [
      "             Timestamp  PV Generation (kWh)\n",
      "15 2013-01-01 08:00:00              0.00000\n",
      "16 2013-01-01 08:30:00              0.00000\n",
      "17 2013-01-01 09:00:00              0.71468\n",
      "18 2013-01-01 09:30:00              3.44150\n",
      "19 2013-01-01 10:00:00              7.03160\n",
      "20 2013-01-01 10:30:00             10.52400\n",
      "21 2013-01-01 11:00:00             13.22300\n",
      "22 2013-01-01 11:30:00             12.96800\n",
      "23 2013-01-01 12:00:00             13.50100\n",
      "24 2013-01-01 12:30:00             13.75800\n",
      "25 2013-01-01 13:00:00             11.30000\n",
      "26 2013-01-01 13:30:00              8.36770\n",
      "27 2013-01-01 14:00:00              6.64640\n",
      "28 2013-01-01 14:30:00              3.27340\n",
      "29 2013-01-01 15:00:00              3.09480\n",
      "30 2013-01-01 15:30:00              0.74352\n",
      "31 2013-01-01 16:00:00              0.00920\n",
      "32 2013-01-01 16:30:00              0.00000\n",
      "33 2013-01-01 17:00:00              0.00000\n"
     ]
    },
    {
     "data": {
      "text/plain": [
       "<matplotlib.axes._subplots.AxesSubplot at 0x1ce513c6ac8>"
      ]
     },
     "execution_count": 2,
     "metadata": {},
     "output_type": "execute_result"
    },
    {
     "data": {
      "image/png": "[encoded data removed]",
      "text/plain": [
       "<Figure size 432x288 with 1 Axes>"
      ]
     },
     "metadata": {
      "needs_background": "light"
     },
     "output_type": "display_data"
    }
   ],
   "source": [
    "# import relevant libraries\n",
    "import pandas as pd\n",
    "import matplotlib.pyplot as plt\n",
    "\n",
    "# load in PV generation and weather data\n",
    "pv_data = pd.read_excel(\"PV_and_weather_data.xlsx\", sheet_name = \"PV Generation\") \n",
    "\n",
    "# take an example day to look at\n",
    "day1_pv = pv_data.iloc[15:34, :]\n",
    "print(day1_pv)\n",
    "\n",
    "# plot line graph of day1 generation\n",
    "day1_pv.plot(x = \"Timestamp\", y=\"PV Generation (kWh)\")\n"
   ]
  },
  {
   "cell_type": "markdown",
   "metadata": {},
   "source": [
    "\n",
    "We can see we have half-hourly PV generation in kWh with the associated timestamp given for the end of the observation period. Now let's look at the different weather variables we have:\n"
   ]
  },
  {
   "cell_type": "code",
   "execution_count": 3,
   "metadata": {},
   "outputs": [
    {
     "name": "stdout",
     "output_type": "stream",
     "text": [
      "             Timestamp  Irradiance (kJ/m2)  Solar Azimuth (°)  \\\n",
      "7  2013-01-01 08:00:00                 0.0          66.764189   \n",
      "8  2013-01-01 09:00:00                27.0          55.550041   \n",
      "9  2013-01-01 10:00:00               279.0          43.713045   \n",
      "10 2013-01-01 11:00:00               537.0          31.026435   \n",
      "11 2013-01-01 12:00:00               781.0          17.476836   \n",
      "12 2013-01-01 13:00:00               926.0           3.318159   \n",
      "13 2013-01-01 14:00:00               761.0         -10.968842   \n",
      "14 2013-01-01 15:00:00               420.0         -24.851469   \n",
      "15 2013-01-01 16:00:00               104.0         -37.956410   \n",
      "16 2013-01-01 17:00:00                 1.0         -50.175768   \n",
      "\n",
      "    Solar Altitude (°)  Wind Direction (°)  Wind Speed (knots)  \\\n",
      "7           -11.002359               250.0                 9.0   \n",
      "8            -2.834427               250.0                 8.0   \n",
      "9             4.451614               250.0                 8.0   \n",
      "10           10.028867               250.0                 4.0   \n",
      "11           13.842878               240.0                 7.0   \n",
      "12           15.524777               270.0                 8.0   \n",
      "13           14.907704               260.0                10.0   \n",
      "14           12.053970               270.0                 9.0   \n",
      "15            7.239300               270.0                 7.0   \n",
      "16            1.030666               280.0                 7.0   \n",
      "\n",
      "    Cloud Cover (Eighths)  visibility (m)  Temperature (C)  \\\n",
      "7                     1.0          2600.0              3.7   \n",
      "8                     0.0          2500.0              3.2   \n",
      "9                     0.0          2800.0              3.5   \n",
      "10                    0.0          2800.0              5.5   \n",
      "11                    0.0          2600.0              6.3   \n",
      "12                    2.0          2600.0              7.1   \n",
      "13                    1.0          2700.0              7.6   \n",
      "14                    0.0          2800.0              7.4   \n",
      "15                    7.0          2700.0              7.5   \n",
      "16                    7.0          2800.0              6.9   \n",
      "\n",
      "    Relative Humidity (%)  \n",
      "7                    88.2  \n",
      "8                    89.6  \n",
      "9                    88.0  \n",
      "10                   79.7  \n",
      "11                   77.4  \n",
      "12                   72.5  \n",
      "13                   67.5  \n",
      "14                   67.3  \n",
      "15                   71.5  \n",
      "16                   69.3  \n"
     ]
    },
    {
     "data": {
      "text/plain": [
       "array([<matplotlib.axes._subplots.AxesSubplot object at 0x000001CE55239CC8>,\n",
       "       <matplotlib.axes._subplots.AxesSubplot object at 0x000001CE56225A08>,\n",
       "       <matplotlib.axes._subplots.AxesSubplot object at 0x000001CE55239A08>,\n",
       "       <matplotlib.axes._subplots.AxesSubplot object at 0x000001CE56268048>,\n",
       "       <matplotlib.axes._subplots.AxesSubplot object at 0x000001CE532BF708>,\n",
       "       <matplotlib.axes._subplots.AxesSubplot object at 0x000001CE532E7A08>,\n",
       "       <matplotlib.axes._subplots.AxesSubplot object at 0x000001CE52DF3108>,\n",
       "       <matplotlib.axes._subplots.AxesSubplot object at 0x000001CE5521D2C8>,\n",
       "       <matplotlib.axes._subplots.AxesSubplot object at 0x000001CE55220E08>],\n",
       "      dtype=object)"
      ]
     },
     "execution_count": 3,
     "metadata": {},
     "output_type": "execute_result"
    },
    {
     "data": {
      "image/png": "[encoded data removed]",
      "text/plain": [
       "<Figure size 504x864 with 9 Axes>"
      ]
     },
     "metadata": {
      "needs_background": "light"
     },
     "output_type": "display_data"
    }
   ],
   "source": [
    "# load in weather data\n",
    "weather_data = pd.read_excel(\"PV_and_weather_data.xlsx\", sheet_name = \"Weather Data\")\n",
    "\n",
    "day1_weather = weather_data.iloc[7:17, :] # select rows 7-17, and all (:) columns\n",
    "print(day1_weather)\n",
    "day1_weather.plot(x = \"Timestamp\", y=[1,2,3,4,5,6,7,8,9], subplots=True, figsize=(7,12))"
   ]
  },
  {
   "cell_type": "markdown",
   "metadata": {},
   "source": [
    "\n"
   ]
  },
  {
   "cell_type": "markdown",
   "metadata": {},
   "source": [
    "We can see we have 9 different weather variables at hourly granularity: irradiance, solar azimuth and altitude, wind speed and direction, cloud cover, visibility, ambient temperature and relative humidity.\n",
    "\n",
    "\n",
    "Now that we have a rough idea of what the data looks like, we should begin the processing stage. First let's look at how many empty entries there are for the PV and weather data. This can be accomplished using the isna() function in pandas:"
   ]
  },
  {
   "cell_type": "markdown",
   "metadata": {},
   "source": [
    "\n"
   ]
  },
  {
   "cell_type": "code",
   "execution_count": 4,
   "metadata": {},
   "outputs": [
    {
     "name": "stdout",
     "output_type": "stream",
     "text": [
      "Timestamp              0\n",
      "PV Generation (kWh)    7\n",
      "dtype: int64\n",
      "\n",
      "PV Generation completeness: 99.99%\n"
     ]
    }
   ],
   "source": [
    "missing_pv = pv_data.isna().sum() # this will produce a new dataframe with the number of empty entries in pv_data\n",
    "print(missing_pv)\n",
    "print(\"\")\n",
    "\n",
    "# calculate % completeness of PV data\n",
    "percent_complete = ((len(pv_data) - missing_pv['PV Generation (kWh)'])/len(pv_data))*100\n",
    "print('PV Generation completeness: %.2f' % (percent_complete) + \"%\") # print the % completness to 2 decimal places\n",
    "    "
   ]
  },
  {
   "cell_type": "markdown",
   "metadata": {},
   "source": [
    " "
   ]
  },
  {
   "cell_type": "markdown",
   "metadata": {},
   "source": [
    "In this case we are lucky! The dataset is very complete, with only 7 missing entries across the entire 5 year period. Now let's do the same for the weather data:"
   ]
  },
  {
   "cell_type": "code",
   "execution_count": 5,
   "metadata": {},
   "outputs": [
    {
     "name": "stdout",
     "output_type": "stream",
     "text": [
      "Timestamp                  0\n",
      "Irradiance (kJ/m2)       318\n",
      "Solar Azimuth (°)          0\n",
      "Solar Altitude (°)         0\n",
      "Wind Direction (°)       204\n",
      "Wind Speed (knots)       204\n",
      "Cloud Cover (Eighths)    330\n",
      "visibility (m)           181\n",
      "Temperature (C)          185\n",
      "Relative Humidity (%)    202\n",
      "dtype: int64\n",
      "\n",
      "Timestamp completeness: 100.00%\n",
      "Irradiance (kJ/m2) completeness: 99.27%\n",
      "Solar Azimuth (°) completeness: 100.00%\n",
      "Solar Altitude (°) completeness: 100.00%\n",
      "Wind Direction (°) completeness: 99.53%\n",
      "Wind Speed (knots) completeness: 99.53%\n",
      "Cloud Cover (Eighths) completeness: 99.25%\n",
      "visibility (m) completeness: 99.59%\n",
      "Temperature (C) completeness: 99.58%\n",
      "Relative Humidity (%) completeness: 99.54%\n"
     ]
    }
   ],
   "source": [
    "missing_weather = weather_data.isna().sum()\n",
    "print(missing_weather)\n",
    "print(\"\")\n",
    "\n",
    "# this time we need a for loop to calculate the % completness of each weather type individually\n",
    "for col in list(weather_data.columns): \n",
    "    percent_complete = ((len(weather_data) - missing_weather[col])/len(weather_data))*100\n",
    "    print(col + ' completeness: %.2f' % (percent_complete) + \"%\")"
   ]
  },
  {
   "cell_type": "markdown",
   "metadata": {},
   "source": [
    " "
   ]
  },
  {
   "cell_type": "markdown",
   "metadata": {},
   "source": [
    "We can see the weather has a few more missing entries than the PV data, but still has over 99% for each datatype. In this case, where the number of missing entries is very small, we can simply remove all observations which are missing one or more of a variable. This will ensure our machine learning model will have a complete set of observations for each timestamp used. \n",
    "\n",
    "To make this process easier, we first need to combine the PV and weather dataframes into one master dataframe. As the weather data is only avaliable at hourly resolution, we need to downsample the PV generation from half-hourly to hourly readings, to ensure they match up correctly. As the generation is recorded in kWh this is as simple as adding the XX:30 and XX:00 readings, which can be handled directly in pandas using the resample function. As before, the timestamp will represent the end of the hour, e.g. the 09:00 generation reading is the generation recorded between 08:00 - 09:00."
   ]
  },
  {
   "cell_type": "code",
   "execution_count": 6,
   "metadata": {},
   "outputs": [
    {
     "name": "stdout",
     "output_type": "stream",
     "text": [
      "             Timestamp  PV Generation (kWh)\n",
      "7  2013-01-01 08:00:00              0.00000\n",
      "8  2013-01-01 09:00:00              0.71468\n",
      "9  2013-01-01 10:00:00             10.47310\n",
      "10 2013-01-01 11:00:00             23.74700\n",
      "11 2013-01-01 12:00:00             26.46900\n",
      "12 2013-01-01 13:00:00             25.05800\n",
      "13 2013-01-01 14:00:00             15.01410\n",
      "14 2013-01-01 15:00:00              6.36820\n",
      "15 2013-01-01 16:00:00              0.75272\n",
      "16 2013-01-01 17:00:00              0.00000\n"
     ]
    }
   ],
   "source": [
    "pv_data = pv_data.resample('H', on='Timestamp', closed ='right', label='right').sum().reset_index()\n",
    "print(pv_data.iloc[7:17, :])"
   ]
  },
  {
   "cell_type": "markdown",
   "metadata": {},
   "source": [
    " "
   ]
  },
  {
   "cell_type": "markdown",
   "metadata": {},
   "source": [
    "\n",
    "Now we can combine the PV and weather data into one dataframe, and remove all rows with any NaN (empty) entries. We can also remove all rows where the recorded PV generation is 0 (nighttime readings) as we want our ML model to only learn the daytime behaviour of the PV systems. Finally we can also remove the timestamps themselves as a feature, as the ML models we will use treat each datapoint as IID (independent and identically distributed) and so the time will not be useful."
   ]
  },
  {
   "cell_type": "code",
   "execution_count": 7,
   "metadata": {},
   "outputs": [
    {
     "name": "stdout",
     "output_type": "stream",
     "text": [
      "PV Generation (kWh)      0\n",
      "Irradiance (kJ/m2)       0\n",
      "Solar Azimuth (°)        0\n",
      "Solar Altitude (°)       0\n",
      "Wind Direction (°)       0\n",
      "Wind Speed (knots)       0\n",
      "Cloud Cover (Eighths)    0\n",
      "visibility (m)           0\n",
      "Temperature (C)          0\n",
      "Relative Humidity (%)    0\n",
      "dtype: int64\n",
      "\n",
      "Percentage of observations removed: 50.25%\n",
      "Rows remaining: 21803\n"
     ]
    }
   ],
   "source": [
    "# combine both data sets into one\n",
    "all_data = pd.concat([pv_data, weather_data.iloc[:, 1:]], axis=1)\n",
    "\n",
    "# remove all rows with any NaN entries\n",
    "all_data = all_data.dropna()\n",
    "\n",
    "# remove rows where PV generation is zero using masking\n",
    "mask = all_data['PV Generation (kWh)'] != 0\n",
    "all_data = all_data[mask]\n",
    "\n",
    "# remove timestamps\n",
    "all_data = all_data.drop(labels='Timestamp', axis=1)\n",
    "\n",
    "\n",
    "# check all NaN values have been removed, using method from earlier\n",
    "missing_data = all_data.isna().sum()\n",
    "print(missing_data) # table counting nan values for each datatype\n",
    "\n",
    "# check percentage of rows removed \n",
    "percent_removed = ((len(pv_data) - len(all_data))/len(pv_data))*100\n",
    "print(\"\")\n",
    "print(\"Percentage of observations removed: %.2f\" % (percent_removed) + \"%\")\n",
    "\n",
    "# check number of useable datapoints left\n",
    "print(\"Rows remaining: %i\" % (len(all_data)))"
   ]
  },
  {
   "cell_type": "markdown",
   "metadata": {},
   "source": [
    "Success! We now have a single clean dataset of over 20,000 hourly observations which we can use in our analysis. \n",
    "\n"
   ]
  },
  {
   "cell_type": "markdown",
   "metadata": {},
   "source": [
    "\n",
    "\n",
    "\n",
    "# Preliminary ML Investigation\n",
    "\n",
    "Now that we have a clean and usable dataset, we can have a first pass at training and testing an ML model. This can be seen as a proof of concept step, to try and see if the problem we are trying to solve is even feasible. Let's start with an overview of the training and testing process. \n",
    "\n",
    "From our dataset we take 80% of the observations to use as a training set. During training stage we show the ML model the target data value (PV generation), and then we give it all the features (weather data) we think are related to the target. The ML model then uses this dataset to calculate the weighting and importance of each feature. Then, once the model is trained, we input the remaining 20% of observations in the testing stage, not including the target values, and it will give us predictions of what it thinks the target values are. By comparing these predictions with the actual target values we can evaluate the accuracy of the model.\n",
    "\n",
    "One important thing to note before we start training our model is that it is incredibly important to scale or standardise our features to give each a mean of 0 and a standard deviation of 1. This will prevent the ML model from unfairly weighting those features which have larger absolute values. The target values generally do not need to be standardised. \n",
    "\n",
    "The below code shows the training and testing stage, followed by evaluating the model accuracy via some performance metrics.\n"
   ]
  },
  {
   "cell_type": "markdown",
   "metadata": {},
   "source": [
    "  "
   ]
  },
  {
   "cell_type": "code",
   "execution_count": 8,
   "metadata": {},
   "outputs": [
    {
     "name": "stdout",
     "output_type": "stream",
     "text": [
      "R2: 0.91\n",
      "MRE: 20.2%\n"
     ]
    },
    {
     "name": "stderr",
     "output_type": "stream",
     "text": [
      "C:\\Users\\Max\\Anaconda3\\envs\\MachineLearning\\lib\\site-packages\\sklearn\\neural_network\\_multilayer_perceptron.py:571: ConvergenceWarning: Stochastic Optimizer: Maximum iterations (200) reached and the optimization hasn't converged yet.\n",
      "  % self.max_iter, ConvergenceWarning)\n"
     ]
    }
   ],
   "source": [
    "from sklearn.model_selection import train_test_split\n",
    "from sklearn.preprocessing import StandardScaler\n",
    "from sklearn.neural_network import MLPRegressor\n",
    "from sklearn.metrics import r2_score\n",
    "import numpy as np\n",
    "\n",
    "# separate the features and target data\n",
    "features = all_data.iloc[:, 1:] # select all rows (observations) and columns (features) 1-end\n",
    "target = all_data.iloc[:, 0]\n",
    "\n",
    "# scale the data to give each feature a mean of 0 and a standard deviation of 1\n",
    "scaler = StandardScaler()\n",
    "features = scaler.fit_transform(features)\n",
    "\n",
    "# randomly split the observations into 80% training, 20% testing\n",
    "training_features, testing_features, training_target, actual = train_test_split(features, target, \n",
    "                                                                                       test_size=0.2, random_state=0)\n",
    "\n",
    "# initialise and train a basic Artifical Neural Network (ANN) with 9 nodes\n",
    "clf = MLPRegressor(hidden_layer_sizes=(9,), random_state=0)\n",
    "clf.fit(training_features, training_target)\n",
    "\n",
    "# feed testing features to the trained model to get ML predictions\n",
    "predicted = clf.predict(testing_features)\n",
    "\n",
    "# calcualte R2 and mean relative error (MRE) between predictions and actual PV generation\n",
    "R = r2_score(actual, predicted)\n",
    "\n",
    "ave_actual = np.average(actual) \n",
    "mre = ((np.sum(abs((actual-predicted)/ave_actual)))/len(actual))*100\n",
    "\n",
    "print(\"R2: %.2f\" % (R))\n",
    "print(\"MRE: %.1f\" % (mre) + \"%\")"
   ]
  },
  {
   "cell_type": "markdown",
   "metadata": {},
   "source": [
    "We can see the model is already working well, reaching an R2 of 0.91 and MRE of 20.2%. Now we have determined the problem is feasible we can move on to improving the model through feature selection and hyperparameter optimisation.\n",
    "\n",
    "Note: Ignore the convergence warning, this will be fixed during hyperparameter optimisation."
   ]
  },
  {
   "cell_type": "markdown",
   "metadata": {},
   "source": [
    "\n"
   ]
  },
  {
   "cell_type": "markdown",
   "metadata": {},
   "source": [
    "\n",
    "\n",
    "# Feature Selection\n",
    "\n",
    "The next important step is to determine which features are most relevant to the target, which for us is hourly PV generation. By removing features, we help the model generalise better to new unseen data and reduce the risk of overfitting, while also decreasing the time taken for model training and testing. \n",
    "\n",
    "There are many different [feature selection techniques](https://towardsdatascience.com/feature-selection-techniques-in-machine-learning-with-python-f24e7da3f36e), but these are difficult to show and explain concisely in short-form tutorial, so instead I will cover a straight-forward but effective method: trial and error. We simply try training the model on different subsets of features and see the effect on the performance metrics. Ideally we want to identify the smallest subset of features which can give us the best modelling performance for the desired application. First let's try the most basic case using only irradiance. \n",
    "\n",
    "Note here we don't need to standardise the irradiance as it is the only feature.\n"
   ]
  },
  {
   "cell_type": "code",
   "execution_count": 9,
   "metadata": {},
   "outputs": [
    {
     "name": "stdout",
     "output_type": "stream",
     "text": [
      "R2: 0.82\n",
      "MRE: 28.9%\n"
     ]
    }
   ],
   "source": [
    "features = all_data[['Irradiance (kJ/m2)']]\n",
    "target = all_data.iloc[:,0]\n",
    "\n",
    "training_features, testing_features, training_target, actual = train_test_split(features, target, \n",
    "                                                                                       test_size=0.2, random_state=0)\n",
    "clf = MLPRegressor(hidden_layer_sizes=(10,), random_state=0)\n",
    "clf.fit(training_features, training_target)\n",
    "predicted = clf.predict(testing_features)\n",
    "\n",
    "R = r2_score(actual, predicted)\n",
    "ave_actual = np.average(actual) \n",
    "mre = ((np.sum(abs((actual-predicted)/ave_actual)))/len(actual))*100\n",
    "\n",
    "print(\"R2: %.2f\" % (R))\n",
    "print(\"MRE: %.1f\" % (mre) + \"%\")"
   ]
  },
  {
   "cell_type": "markdown",
   "metadata": {},
   "source": [
    " "
   ]
  },
  {
   "cell_type": "markdown",
   "metadata": {},
   "source": [
    "The performance metrics have dropped noticably so clearly we need to include more than just irradiance. For an unknown problem this process would continue, making educated guesses of which features will be most important, retraining and retesting the model and calculating the performance metrics. In the interest of time I am going to fast forward to the best set of features I found: irradiance, solar position, temperature and relative humidity. "
   ]
  },
  {
   "cell_type": "code",
   "execution_count": 10,
   "metadata": {},
   "outputs": [
    {
     "name": "stdout",
     "output_type": "stream",
     "text": [
      "R2: 0.89\n",
      "MRE: 22.0%\n"
     ]
    },
    {
     "name": "stderr",
     "output_type": "stream",
     "text": [
      "C:\\Users\\Max\\Anaconda3\\envs\\MachineLearning\\lib\\site-packages\\sklearn\\neural_network\\_multilayer_perceptron.py:571: ConvergenceWarning: Stochastic Optimizer: Maximum iterations (200) reached and the optimization hasn't converged yet.\n",
      "  % self.max_iter, ConvergenceWarning)\n"
     ]
    }
   ],
   "source": [
    "features = all_data.iloc[:,[1,2,3,8,9]]\n",
    "target = all_data.iloc[:,0]\n",
    "\n",
    "scaler = StandardScaler()\n",
    "features = scaler.fit_transform(features)\n",
    "\n",
    "training_features, testing_features, training_target, actual = train_test_split(features, target, \n",
    "                                                                                       test_size=0.2, random_state=0)\n",
    "\n",
    "clf = MLPRegressor(hidden_layer_sizes=(10,), random_state=0)\n",
    "clf.fit(training_features, training_target)\n",
    "predicted = clf.predict(testing_features)\n",
    "\n",
    "R = r2_score(actual, predicted)\n",
    "ave_actual = np.average(actual) \n",
    "mre = ((np.sum(abs((actual-predicted)/ave_actual)))/len(actual))*100\n",
    "\n",
    "print(\"R2: %.2f\" % (R))\n",
    "print(\"MRE: %.1f\" % (mre) + \"%\")"
   ]
  },
  {
   "cell_type": "markdown",
   "metadata": {},
   "source": [
    " "
   ]
  },
  {
   "cell_type": "markdown",
   "metadata": {},
   "source": [
    "We have managed to reduce the number of features from 9 to 5 while maintaining a very similar level of modelling accuracy. This will allow our model to generalise better for use on other PV installations and reduce the computational cost of running the model. These trade-offs are always present in ML and it is up to the user to decide which is best for the specific application."
   ]
  },
  {
   "cell_type": "markdown",
   "metadata": {},
   "source": [
    "\n",
    "\n",
    "\n",
    "# Hyperparameter Optimisation\n",
    "\n",
    "[Hyperparameter optimisation](https://towardsdatascience.com/hyperparameters-optimization-526348bb8e2d) is the process of the user selecting different parameters of each ML model to get the best modelling accuracy for their specific application. Note that **hyperparameters** are not the same as the **model parameters**, which are calculated internally by the model during the training stage. For example a hyperparameter could be the number of nodes used in an Artificial Neural Network, while a model parameter would be the weighting of the irradiance feature. This hyperparameter optimisation is widely considered to be one of the most difficult steps in a machine learning workflow for a couple of reasons:\n",
    "\n",
    "\n",
    "- The effect of each hyperparameter can be strongly dependent on the other hyperparameters, resulting in a large set of potential hyperparameter combinations  \n",
    "- It can be difficult to understand the meaning/effect of some hyperparameters on modelling performance without an incredibly in-depth understanding of the model's underpinning mathematics\n",
    "\n",
    "\n",
    "One effective method to address both these points is to use an exhaustive grid search algorithm to select the best combination of hyperparameters. Essentially the user will provide a range of potential values for each hyperparameter of interest, and the grid search will train and test the model for every possible combination of hyperparameters. For each combination it will save the value of a performance metric (usually R2), and then select the combination with the greatest modelling accuracy. This can be set up by hand, but here we will use the [GridSearchCV](https://scikit-learn.org/stable/modules/generated/sklearn.model_selection.GridSearchCV.html#sklearn.model_selection.GridSearchCV) function from the sklearn library. We will apply the grid search to the basic ANN used in the previous stages, documentation for which can be found [here](https://scikit-learn.org/stable/modules/generated/sklearn.neural_network.MLPRegressor.html).\n",
    "\n",
    "\n",
    "Due to the computational cost of the grid search, we will only include a couple of different hyperparameters in this example, namely the ANN's neural structure and the solver it uses to calculate model parameters. For a real problem you would include more hyperparameters and search over a larger range for each. "
   ]
  },
  {
   "cell_type": "code",
   "execution_count": 11,
   "metadata": {},
   "outputs": [
    {
     "name": "stdout",
     "output_type": "stream",
     "text": [
      "Beginning optimisation\n"
     ]
    },
    {
     "ename": "KeyboardInterrupt",
     "evalue": "",
     "output_type": "error",
     "traceback": [
      "\u001b[1;31m---------------------------------------------------------------------------\u001b[0m",
      "\u001b[1;31mKeyboardInterrupt\u001b[0m                         Traceback (most recent call last)",
      "\u001b[1;32m<ipython-input-11-545bdeff95fd>\u001b[0m in \u001b[0;36m<module>\u001b[1;34m\u001b[0m\n\u001b[0;32m     29\u001b[0m \u001b[0mprint\u001b[0m\u001b[1;33m(\u001b[0m\u001b[1;34m'Beginning optimisation'\u001b[0m\u001b[1;33m)\u001b[0m\u001b[1;33m\u001b[0m\u001b[1;33m\u001b[0m\u001b[0m\n\u001b[0;32m     30\u001b[0m \u001b[0mgrid_search\u001b[0m \u001b[1;33m=\u001b[0m \u001b[0mGridSearchCV\u001b[0m\u001b[1;33m(\u001b[0m\u001b[0mclf\u001b[0m\u001b[1;33m,\u001b[0m \u001b[0mparams\u001b[0m\u001b[1;33m,\u001b[0m \u001b[0mcv\u001b[0m\u001b[1;33m=\u001b[0m\u001b[1;36m3\u001b[0m\u001b[1;33m,\u001b[0m \u001b[0mn_jobs\u001b[0m\u001b[1;33m=\u001b[0m\u001b[1;33m-\u001b[0m\u001b[1;36m1\u001b[0m\u001b[1;33m,\u001b[0m \u001b[0mverbose\u001b[0m\u001b[1;33m=\u001b[0m\u001b[1;36m0\u001b[0m\u001b[1;33m)\u001b[0m\u001b[1;33m\u001b[0m\u001b[1;33m\u001b[0m\u001b[0m\n\u001b[1;32m---> 31\u001b[1;33m \u001b[0mgrid_search\u001b[0m\u001b[1;33m.\u001b[0m\u001b[0mfit\u001b[0m\u001b[1;33m(\u001b[0m\u001b[0mfeatures\u001b[0m\u001b[1;33m,\u001b[0m \u001b[0mtarget\u001b[0m\u001b[1;33m)\u001b[0m\u001b[1;33m\u001b[0m\u001b[1;33m\u001b[0m\u001b[0m\n\u001b[0m\u001b[0;32m     32\u001b[0m \u001b[1;33m\u001b[0m\u001b[0m\n\u001b[0;32m     33\u001b[0m \u001b[1;31m# print the best 3 combinations\u001b[0m\u001b[1;33m\u001b[0m\u001b[1;33m\u001b[0m\u001b[1;33m\u001b[0m\u001b[0m\n",
      "\u001b[1;32m~\\Anaconda3\\envs\\MachineLearning\\lib\\site-packages\\sklearn\\model_selection\\_search.py\u001b[0m in \u001b[0;36mfit\u001b[1;34m(self, X, y, groups, **fit_params)\u001b[0m\n\u001b[0;32m    708\u001b[0m                 \u001b[1;32mreturn\u001b[0m \u001b[0mresults\u001b[0m\u001b[1;33m\u001b[0m\u001b[1;33m\u001b[0m\u001b[0m\n\u001b[0;32m    709\u001b[0m \u001b[1;33m\u001b[0m\u001b[0m\n\u001b[1;32m--> 710\u001b[1;33m             \u001b[0mself\u001b[0m\u001b[1;33m.\u001b[0m\u001b[0m_run_search\u001b[0m\u001b[1;33m(\u001b[0m\u001b[0mevaluate_candidates\u001b[0m\u001b[1;33m)\u001b[0m\u001b[1;33m\u001b[0m\u001b[1;33m\u001b[0m\u001b[0m\n\u001b[0m\u001b[0;32m    711\u001b[0m \u001b[1;33m\u001b[0m\u001b[0m\n\u001b[0;32m    712\u001b[0m         \u001b[1;31m# For multi-metric evaluation, store the best_index_, best_params_ and\u001b[0m\u001b[1;33m\u001b[0m\u001b[1;33m\u001b[0m\u001b[1;33m\u001b[0m\u001b[0m\n",
      "\u001b[1;32m~\\Anaconda3\\envs\\MachineLearning\\lib\\site-packages\\sklearn\\model_selection\\_search.py\u001b[0m in \u001b[0;36m_run_search\u001b[1;34m(self, evaluate_candidates)\u001b[0m\n\u001b[0;32m   1149\u001b[0m     \u001b[1;32mdef\u001b[0m \u001b[0m_run_search\u001b[0m\u001b[1;33m(\u001b[0m\u001b[0mself\u001b[0m\u001b[1;33m,\u001b[0m \u001b[0mevaluate_candidates\u001b[0m\u001b[1;33m)\u001b[0m\u001b[1;33m:\u001b[0m\u001b[1;33m\u001b[0m\u001b[1;33m\u001b[0m\u001b[0m\n\u001b[0;32m   1150\u001b[0m         \u001b[1;34m\"\"\"Search all candidates in param_grid\"\"\"\u001b[0m\u001b[1;33m\u001b[0m\u001b[1;33m\u001b[0m\u001b[0m\n\u001b[1;32m-> 1151\u001b[1;33m         \u001b[0mevaluate_candidates\u001b[0m\u001b[1;33m(\u001b[0m\u001b[0mParameterGrid\u001b[0m\u001b[1;33m(\u001b[0m\u001b[0mself\u001b[0m\u001b[1;33m.\u001b[0m\u001b[0mparam_grid\u001b[0m\u001b[1;33m)\u001b[0m\u001b[1;33m)\u001b[0m\u001b[1;33m\u001b[0m\u001b[1;33m\u001b[0m\u001b[0m\n\u001b[0m\u001b[0;32m   1152\u001b[0m \u001b[1;33m\u001b[0m\u001b[0m\n\u001b[0;32m   1153\u001b[0m \u001b[1;33m\u001b[0m\u001b[0m\n",
      "\u001b[1;32m~\\Anaconda3\\envs\\MachineLearning\\lib\\site-packages\\sklearn\\model_selection\\_search.py\u001b[0m in \u001b[0;36mevaluate_candidates\u001b[1;34m(candidate_params)\u001b[0m\n\u001b[0;32m    687\u001b[0m                                \u001b[1;32mfor\u001b[0m \u001b[0mparameters\u001b[0m\u001b[1;33m,\u001b[0m \u001b[1;33m(\u001b[0m\u001b[0mtrain\u001b[0m\u001b[1;33m,\u001b[0m \u001b[0mtest\u001b[0m\u001b[1;33m)\u001b[0m\u001b[1;33m\u001b[0m\u001b[1;33m\u001b[0m\u001b[0m\n\u001b[0;32m    688\u001b[0m                                in product(candidate_params,\n\u001b[1;32m--> 689\u001b[1;33m                                           cv.split(X, y, groups)))\n\u001b[0m\u001b[0;32m    690\u001b[0m \u001b[1;33m\u001b[0m\u001b[0m\n\u001b[0;32m    691\u001b[0m                 \u001b[1;32mif\u001b[0m \u001b[0mlen\u001b[0m\u001b[1;33m(\u001b[0m\u001b[0mout\u001b[0m\u001b[1;33m)\u001b[0m \u001b[1;33m<\u001b[0m \u001b[1;36m1\u001b[0m\u001b[1;33m:\u001b[0m\u001b[1;33m\u001b[0m\u001b[1;33m\u001b[0m\u001b[0m\n",
      "\u001b[1;32m~\\Anaconda3\\envs\\MachineLearning\\lib\\site-packages\\joblib\\parallel.py\u001b[0m in \u001b[0;36m__call__\u001b[1;34m(self, iterable)\u001b[0m\n\u001b[0;32m   1014\u001b[0m \u001b[1;33m\u001b[0m\u001b[0m\n\u001b[0;32m   1015\u001b[0m             \u001b[1;32mwith\u001b[0m \u001b[0mself\u001b[0m\u001b[1;33m.\u001b[0m\u001b[0m_backend\u001b[0m\u001b[1;33m.\u001b[0m\u001b[0mretrieval_context\u001b[0m\u001b[1;33m(\u001b[0m\u001b[1;33m)\u001b[0m\u001b[1;33m:\u001b[0m\u001b[1;33m\u001b[0m\u001b[1;33m\u001b[0m\u001b[0m\n\u001b[1;32m-> 1016\u001b[1;33m                 \u001b[0mself\u001b[0m\u001b[1;33m.\u001b[0m\u001b[0mretrieve\u001b[0m\u001b[1;33m(\u001b[0m\u001b[1;33m)\u001b[0m\u001b[1;33m\u001b[0m\u001b[1;33m\u001b[0m\u001b[0m\n\u001b[0m\u001b[0;32m   1017\u001b[0m             \u001b[1;31m# Make sure that we get a last message telling us we are done\u001b[0m\u001b[1;33m\u001b[0m\u001b[1;33m\u001b[0m\u001b[1;33m\u001b[0m\u001b[0m\n\u001b[0;32m   1018\u001b[0m             \u001b[0melapsed_time\u001b[0m \u001b[1;33m=\u001b[0m \u001b[0mtime\u001b[0m\u001b[1;33m.\u001b[0m\u001b[0mtime\u001b[0m\u001b[1;33m(\u001b[0m\u001b[1;33m)\u001b[0m \u001b[1;33m-\u001b[0m \u001b[0mself\u001b[0m\u001b[1;33m.\u001b[0m\u001b[0m_start_time\u001b[0m\u001b[1;33m\u001b[0m\u001b[1;33m\u001b[0m\u001b[0m\n",
      "\u001b[1;32m~\\Anaconda3\\envs\\MachineLearning\\lib\\site-packages\\joblib\\parallel.py\u001b[0m in \u001b[0;36mretrieve\u001b[1;34m(self)\u001b[0m\n\u001b[0;32m    906\u001b[0m             \u001b[1;32mtry\u001b[0m\u001b[1;33m:\u001b[0m\u001b[1;33m\u001b[0m\u001b[1;33m\u001b[0m\u001b[0m\n\u001b[0;32m    907\u001b[0m                 \u001b[1;32mif\u001b[0m \u001b[0mgetattr\u001b[0m\u001b[1;33m(\u001b[0m\u001b[0mself\u001b[0m\u001b[1;33m.\u001b[0m\u001b[0m_backend\u001b[0m\u001b[1;33m,\u001b[0m \u001b[1;34m'supports_timeout'\u001b[0m\u001b[1;33m,\u001b[0m \u001b[1;32mFalse\u001b[0m\u001b[1;33m)\u001b[0m\u001b[1;33m:\u001b[0m\u001b[1;33m\u001b[0m\u001b[1;33m\u001b[0m\u001b[0m\n\u001b[1;32m--> 908\u001b[1;33m                     \u001b[0mself\u001b[0m\u001b[1;33m.\u001b[0m\u001b[0m_output\u001b[0m\u001b[1;33m.\u001b[0m\u001b[0mextend\u001b[0m\u001b[1;33m(\u001b[0m\u001b[0mjob\u001b[0m\u001b[1;33m.\u001b[0m\u001b[0mget\u001b[0m\u001b[1;33m(\u001b[0m\u001b[0mtimeout\u001b[0m\u001b[1;33m=\u001b[0m\u001b[0mself\u001b[0m\u001b[1;33m.\u001b[0m\u001b[0mtimeout\u001b[0m\u001b[1;33m)\u001b[0m\u001b[1;33m)\u001b[0m\u001b[1;33m\u001b[0m\u001b[1;33m\u001b[0m\u001b[0m\n\u001b[0m\u001b[0;32m    909\u001b[0m                 \u001b[1;32melse\u001b[0m\u001b[1;33m:\u001b[0m\u001b[1;33m\u001b[0m\u001b[1;33m\u001b[0m\u001b[0m\n\u001b[0;32m    910\u001b[0m                     \u001b[0mself\u001b[0m\u001b[1;33m.\u001b[0m\u001b[0m_output\u001b[0m\u001b[1;33m.\u001b[0m\u001b[0mextend\u001b[0m\u001b[1;33m(\u001b[0m\u001b[0mjob\u001b[0m\u001b[1;33m.\u001b[0m\u001b[0mget\u001b[0m\u001b[1;33m(\u001b[0m\u001b[1;33m)\u001b[0m\u001b[1;33m)\u001b[0m\u001b[1;33m\u001b[0m\u001b[1;33m\u001b[0m\u001b[0m\n",
      "\u001b[1;32m~\\Anaconda3\\envs\\MachineLearning\\lib\\site-packages\\joblib\\_parallel_backends.py\u001b[0m in \u001b[0;36mwrap_future_result\u001b[1;34m(future, timeout)\u001b[0m\n\u001b[0;32m    552\u001b[0m         AsyncResults.get from multiprocessing.\"\"\"\n\u001b[0;32m    553\u001b[0m         \u001b[1;32mtry\u001b[0m\u001b[1;33m:\u001b[0m\u001b[1;33m\u001b[0m\u001b[1;33m\u001b[0m\u001b[0m\n\u001b[1;32m--> 554\u001b[1;33m             \u001b[1;32mreturn\u001b[0m \u001b[0mfuture\u001b[0m\u001b[1;33m.\u001b[0m\u001b[0mresult\u001b[0m\u001b[1;33m(\u001b[0m\u001b[0mtimeout\u001b[0m\u001b[1;33m=\u001b[0m\u001b[0mtimeout\u001b[0m\u001b[1;33m)\u001b[0m\u001b[1;33m\u001b[0m\u001b[1;33m\u001b[0m\u001b[0m\n\u001b[0m\u001b[0;32m    555\u001b[0m         \u001b[1;32mexcept\u001b[0m \u001b[0mLokyTimeoutError\u001b[0m\u001b[1;33m:\u001b[0m\u001b[1;33m\u001b[0m\u001b[1;33m\u001b[0m\u001b[0m\n\u001b[0;32m    556\u001b[0m             \u001b[1;32mraise\u001b[0m \u001b[0mTimeoutError\u001b[0m\u001b[1;33m(\u001b[0m\u001b[1;33m)\u001b[0m\u001b[1;33m\u001b[0m\u001b[1;33m\u001b[0m\u001b[0m\n",
      "\u001b[1;32m~\\Anaconda3\\envs\\MachineLearning\\lib\\concurrent\\futures\\_base.py\u001b[0m in \u001b[0;36mresult\u001b[1;34m(self, timeout)\u001b[0m\n\u001b[0;32m    428\u001b[0m                 \u001b[1;32mreturn\u001b[0m \u001b[0mself\u001b[0m\u001b[1;33m.\u001b[0m\u001b[0m__get_result\u001b[0m\u001b[1;33m(\u001b[0m\u001b[1;33m)\u001b[0m\u001b[1;33m\u001b[0m\u001b[1;33m\u001b[0m\u001b[0m\n\u001b[0;32m    429\u001b[0m \u001b[1;33m\u001b[0m\u001b[0m\n\u001b[1;32m--> 430\u001b[1;33m             \u001b[0mself\u001b[0m\u001b[1;33m.\u001b[0m\u001b[0m_condition\u001b[0m\u001b[1;33m.\u001b[0m\u001b[0mwait\u001b[0m\u001b[1;33m(\u001b[0m\u001b[0mtimeout\u001b[0m\u001b[1;33m)\u001b[0m\u001b[1;33m\u001b[0m\u001b[1;33m\u001b[0m\u001b[0m\n\u001b[0m\u001b[0;32m    431\u001b[0m \u001b[1;33m\u001b[0m\u001b[0m\n\u001b[0;32m    432\u001b[0m             \u001b[1;32mif\u001b[0m \u001b[0mself\u001b[0m\u001b[1;33m.\u001b[0m\u001b[0m_state\u001b[0m \u001b[1;32min\u001b[0m \u001b[1;33m[\u001b[0m\u001b[0mCANCELLED\u001b[0m\u001b[1;33m,\u001b[0m \u001b[0mCANCELLED_AND_NOTIFIED\u001b[0m\u001b[1;33m]\u001b[0m\u001b[1;33m:\u001b[0m\u001b[1;33m\u001b[0m\u001b[1;33m\u001b[0m\u001b[0m\n",
      "\u001b[1;32m~\\Anaconda3\\envs\\MachineLearning\\lib\\threading.py\u001b[0m in \u001b[0;36mwait\u001b[1;34m(self, timeout)\u001b[0m\n\u001b[0;32m    294\u001b[0m         \u001b[1;32mtry\u001b[0m\u001b[1;33m:\u001b[0m    \u001b[1;31m# restore state no matter what (e.g., KeyboardInterrupt)\u001b[0m\u001b[1;33m\u001b[0m\u001b[1;33m\u001b[0m\u001b[0m\n\u001b[0;32m    295\u001b[0m             \u001b[1;32mif\u001b[0m \u001b[0mtimeout\u001b[0m \u001b[1;32mis\u001b[0m \u001b[1;32mNone\u001b[0m\u001b[1;33m:\u001b[0m\u001b[1;33m\u001b[0m\u001b[1;33m\u001b[0m\u001b[0m\n\u001b[1;32m--> 296\u001b[1;33m                 \u001b[0mwaiter\u001b[0m\u001b[1;33m.\u001b[0m\u001b[0macquire\u001b[0m\u001b[1;33m(\u001b[0m\u001b[1;33m)\u001b[0m\u001b[1;33m\u001b[0m\u001b[1;33m\u001b[0m\u001b[0m\n\u001b[0m\u001b[0;32m    297\u001b[0m                 \u001b[0mgotit\u001b[0m \u001b[1;33m=\u001b[0m \u001b[1;32mTrue\u001b[0m\u001b[1;33m\u001b[0m\u001b[1;33m\u001b[0m\u001b[0m\n\u001b[0;32m    298\u001b[0m             \u001b[1;32melse\u001b[0m\u001b[1;33m:\u001b[0m\u001b[1;33m\u001b[0m\u001b[1;33m\u001b[0m\u001b[0m\n",
      "\u001b[1;31mKeyboardInterrupt\u001b[0m: "
     ]
    }
   ],
   "source": [
    "from sklearn.model_selection import GridSearchCV\n",
    "\n",
    "# Utility function to report best scores\n",
    "def report(results, n_top=3):\n",
    "    for i in range(1, n_top + 1):\n",
    "        candidates = np.flatnonzero(results['rank_test_score'] == i)\n",
    "        for candidate in candidates:\n",
    "            print(\"Model with rank: {0}\".format(i))\n",
    "            print(\"Mean validation score: {0:.3f} (std: {1:.3f})\".format(\n",
    "                  results['mean_test_score'][candidate],\n",
    "                  results['std_test_score'][candidate]))\n",
    "            print(\"Parameters: {0}\".format(results['params'][candidate]))\n",
    "            print(\"\")\n",
    "\n",
    "# specify and standardise data\n",
    "features = all_data.iloc[:,[1,2,3,8,9]]\n",
    "target = all_data.iloc[:,0]\n",
    "scaler = StandardScaler()\n",
    "features = scaler.fit_transform(features)\n",
    "          \n",
    "# hyperparameters to search over\n",
    "params = {\"solver\": ['adam','sgd'],\n",
    "         \"hidden_layer_sizes\": [(10,), (100,), (200,), (500,)]}\n",
    "\n",
    "# initialise ML model you want to optimise\n",
    "clf = MLPRegressor(random_state=0, max_iter=500)\n",
    "\n",
    "# initialise and start the grid search\n",
    "print('Beginning optimisation')\n",
    "grid_search = GridSearchCV(clf, params, cv=3, n_jobs=-1, verbose=0)\n",
    "grid_search.fit(features, target)\n",
    "\n",
    "# print the best 3 combinations \n",
    "report(grid_search.cv_results_)\n",
    "print()"
   ]
  },
  {
   "cell_type": "markdown",
   "metadata": {},
   "source": [
    "Here we can see the top three combinations have identical R2 values of 0.900, and so we will pick the one with the smallest network, as this will train and make predictions faster. Therefore our final model will use the 'sgd' solver and have one hidden layer of 200 neurons. Let's just run this best case model once more to calculate the other performance metrics:"
   ]
  },
  {
   "cell_type": "code",
   "execution_count": null,
   "metadata": {},
   "outputs": [],
   "source": [
    "clf = MLPRegressor(hidden_layer_sizes = (200,), solver='sgd', random_state=0, max_iter=500)\n",
    "clf.fit(training_features, training_target)\n",
    "predicted = clf.predict(testing_features)\n",
    "\n",
    "R = r2_score(actual, predicted)\n",
    "ave_actual = np.average(actual) \n",
    "mre = ((np.sum(abs((actual-predicted)/ave_actual)))/len(actual))*100\n",
    "\n",
    "print(\"R2: %.2f\" % (R))\n",
    "print(\"MRE: %.1f\" % (mre) + \"%\")"
   ]
  },
  {
   "cell_type": "markdown",
   "metadata": {},
   "source": [
    " "
   ]
  },
  {
   "cell_type": "markdown",
   "metadata": {},
   "source": [
    "Through this process we have managed to increase the R2 from 0.89 to 0.91 and reduced the MRE from 22.0% down to 19.4%. Although these improvements are modest, they are still noticable, and would be greater still if you had time to optimise over a larger set of hyperparameters. \n",
    "\n",
    "Now that we have our best model, let's plot the model's predictions against the actual generation to see how well we did. Note that we have removed the nighttime values so the plots will look slightly odd. "
   ]
  },
  {
   "cell_type": "code",
   "execution_count": null,
   "metadata": {},
   "outputs": [],
   "source": [
    "features = all_data.iloc[:,[1,2,3,8,9]]\n",
    "target = all_data.iloc[:,0]\n",
    "scaler = StandardScaler()\n",
    "features = scaler.fit_transform(features)\n",
    "\n",
    "# make predictions using previously trained model\n",
    "week = 25\n",
    "predicted = clf.predict(features[week*12*7:(week+1)*12*7])\n",
    "actual = target[week*12*7:(week+1)*12*7]\n",
    "\n",
    "example_week = pd.DataFrame(data={'Hour': range(len(predicted)),\n",
    "                                 'Actual (kWh)': actual,\n",
    "                                 'Predicted (kWh)': predicted})\n",
    "\n",
    "example_week.plot(x = \"Hour\", y=[1,2], figsize=(10,3))\n"
   ]
  },
  {
   "cell_type": "markdown",
   "metadata": {},
   "source": [
    "We have designed a complete ANN that can accurately model hourly PV generation based on weather data!"
   ]
  },
  {
   "cell_type": "markdown",
   "metadata": {},
   "source": [
    " "
   ]
  },
  {
   "cell_type": "markdown",
   "metadata": {},
   "source": [
    "# Improvements\n",
    "\n",
    "The purpose of this tutorial is to give those unfamiliar with machine learning an idea of the general workflow and major steps needed. To keep this tutorial digestable I have not gone into as much detail as I would have liked in some sections, so here are a few general points for improvement if you had more time:\n",
    "\n",
    "\n",
    "\n",
    "\n",
    "1. More steps could be taken to clean and asses the quality of the raw data. For example, filtering out data points that are many standard deviations away from the mean. Data preprocessing is **the** most important step in any ML problem, and should take up the  majority of time spent on the problem. \n",
    "\n",
    "\n",
    "2. Ideally the feature selection and hyperparameter optimisation should be coupled together before choosing the best set of features/hyperparameters. This means identifying multiple possible combinations of features and performing an individual hyperparameter optimisation on each set to determine which gives the best overall modelling performance.\n",
    "\n",
    "\n",
    "3. Wherever possible try to gain some level of understanding on how the ML model you are using works; blindly applying a model to a problem can sometimes result in erroneous behaviour and false conclusions. Many models have similar underlying behaviour so understanding how one works will help you across the board.\n",
    "\n",
    "\n",
    "4. Try multiple different ML models to see which works best, the [sklearn library](https://scikit-learn.org/stable/index.html) has many to choose from. \n",
    "\n"
   ]
  },
  {
   "cell_type": "markdown",
   "metadata": {},
   "source": [
    "# Self-Study\n",
    "\n",
    "The best way to learn machine learning is to practice on a problem yourself. I have included another excel file imaginatively called *PV_and_weather_data_2*, which contains another set of PV generation and weather data to use for the below questions. In the interest of time the data has already been preprocessed and is ready to use in an ML model. \n",
    "\n",
    "### 1. Warm up\n",
    "- Repeat the above analysis using a new model of your choice from the SKlearn library. Try to identify which hyperparameters are most important for this specific model. Compare the performance of your model to the ANN shown here. \n",
    "\n",
    "\n",
    "### 2. Intermediate\n",
    "- Design and optimise (using the steps from the tutorial) an ANN that can predict **hour-ahead** PV generation, meaning it can predict generation from 9:00-10:00 knowing only the value of the features from 8:00-9:00. Hint - think about how you should combine the features and the target values.\n",
    "\n",
    "\n",
    "### 3. Advanced\n",
    "- Repeat Question 2 for a new ML model, but also include **lagged panel generation** as a feature. For example, to predict generation from 10:00-11:00, the new feature would be the actual panel generation from the immediately previous timestep, 9:00-10:00. If successful, add another lagged generation interval (8:00-9:00) and compare and contrast the resulting accuracy. \n",
    "\n",
    "\n",
    "Please do not hesitate to contact me via email if you have any questions about any of the problems. \n",
    "\n",
    "Good luck!"
   ]
  }
 ],
 "metadata": {
  "kernelspec": {
   "display_name": "Python 3",
   "language": "python",
   "name": "python3"
  },
  "language_info": {
   "codemirror_mode": {
    "name": "ipython",
    "version": 3
   },
   "file_extension": ".py",
   "mimetype": "text/x-python",
   "name": "python",
   "nbconvert_exporter": "python",
   "pygments_lexer": "ipython3",
   "version": "3.7.5"
  }
 },
 "nbformat": 4,
 "nbformat_minor": 2
}
